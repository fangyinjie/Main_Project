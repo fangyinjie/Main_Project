{
 "cells": [
  {
   "cell_type": "markdown",
   "source": [
    "观点1：根据全路径长度分优先级的方法，全路径内的结点的优先级排序没啥用，因为结点的执行顺序固定；\n",
    "观点2：全路径数量是并行度数量，用这样的优先级数量即可；（不成立，比如完全有向图）\n",
    "观点3：把两个全路径合并成一个全路径（最短的两个），这样可压缩图的并行度，进而压缩优先级；\n",
    "观点4：路径合并过程会删除一些边，即全路径中的一些绝对顺序。当并行度为1的时候DAG为chain graph；\n",
    "观点5：有影响的只有并行结点的执行顺序，时间波动导致的makespan的变化，主要是因为结点的执行顺序变化，这样动态重算的标准可以参考；\n",
    "观点6：一条全路径的最快完成时间是把所有结点放在一个核心上顺序执行，\n",
    "观点7：定义：就绪队列中的结点之间一定是并行结点，即，结点之间不存在祖先、后代关系。而这些结点的先后顺序只有一部分需要确定以减少makespan，其他的利用FIFO即可"
   ],
   "metadata": {
    "collapsed": false
   }
  },
  {
   "cell_type": "markdown",
   "source": [
    "研究内容：\n",
    "ideal：细颗粒度响应时间；"
   ],
   "metadata": {
    "collapsed": false
   }
  },
  {
   "cell_type": "markdown",
   "source": [
    "Some examples in this group are\n",
    "the Dominant Sequence Clustering (DSC) [12],\n",
    "Linear Clustering Method [19],\n",
    "Mobility Directed [3], and\n",
    "Clustering and Scheduling System (CASS) [25].\n",
    "\n",
    "这一类的例子有:\n",
    "-优势序列聚类(DSC)[12]\n",
    "-线性聚类方法[19]\n",
    "-定向移动[3]和\n",
    "-聚类调度系统(CASS)[25]。"
   ],
   "metadata": {
    "collapsed": false
   }
  },
  {
   "cell_type": "markdown",
   "source": [
    "我是一条直流电，遇到电容就掉了；"
   ],
   "metadata": {
    "collapsed": false
   }
  }
 ],
 "metadata": {
  "kernelspec": {
   "display_name": "Python 3",
   "language": "python",
   "name": "python3"
  },
  "language_info": {
   "codemirror_mode": {
    "name": "ipython",
    "version": 2
   },
   "file_extension": ".py",
   "mimetype": "text/x-python",
   "name": "python",
   "nbconvert_exporter": "python",
   "pygments_lexer": "ipython2",
   "version": "2.7.6"
  }
 },
 "nbformat": 4,
 "nbformat_minor": 0
}
