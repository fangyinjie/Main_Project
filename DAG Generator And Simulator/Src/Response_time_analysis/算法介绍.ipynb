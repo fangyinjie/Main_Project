{
 "cells": [
  {
   "cell_type": "markdown",
   "source": [
    "# 响应时间分析算法"
   ],
   "metadata": {
    "collapsed": false
   },
   "execution_count": 1
  },
  {
   "cell_type": "markdown",
   "source": [
    "对DAG任务进行调度的工作大多基于work-conserving调度[12]。[13]中提供了一个通用边界，该边界可以捕获使用任何work-conserving方法的全局任务调度的WCRT（最差情况响应时间）。\n",
    "此类分析在[12][14]中被公式化，如下式所示："
   ],
   "metadata": {
    "collapsed": false
   }
  },
  {
   "cell_type": "markdown",
   "source": [
    "$$R_x=L_x+[\\frac{1}{m}(W_x-L_x)]+\\sum_{\\tau \\in hp(x)}{I_{x,y}}$$"
   ],
   "metadata": {
    "collapsed": false
   }
  },
  {
   "cell_type": "markdown",
   "source": [
    "$R_x$       ：\t表示τ_x的响应时间；\n",
    "$m$\t\t    ：\t表示处理器的数量；\n",
    "$I_(x,y)$\t：\t表示来自高优先级DAG任务$τ_y$的干扰；\n",
    "$hp(x)$\t    ：\t表示所有比$τ_x$优先级高的任务；\n"
   ],
   "metadata": {
    "collapsed": false
   }
  },
  {
   "cell_type": "code",
   "execution_count": null,
   "outputs": [],
   "source": [
    "Define 1(path)："
   ],
   "metadata": {
    "collapsed": false
   }
  }
 ],
 "metadata": {
  "kernelspec": {
   "display_name": "Python 3",
   "language": "python",
   "name": "python3"
  },
  "language_info": {
   "codemirror_mode": {
    "name": "ipython",
    "version": 2
   },
   "file_extension": ".py",
   "mimetype": "text/x-python",
   "name": "python",
   "nbconvert_exporter": "python",
   "pygments_lexer": "ipython2",
   "version": "2.7.6"
  }
 },
 "nbformat": 4,
 "nbformat_minor": 0
}
