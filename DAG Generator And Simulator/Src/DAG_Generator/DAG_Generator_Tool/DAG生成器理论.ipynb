{
 "cells": [
  {
   "cell_type": "markdown",
   "source": [
    "# DAG生成器理论"
   ],
   "metadata": {
    "collapsed": false
   },
   "execution_count": 1
  },
  {
   "cell_type": "markdown",
   "source": [
    "定义1 有向无环图\n",
    "定义1 邻接矩阵\n",
    "定义1 可达矩阵"
   ],
   "metadata": {
    "collapsed": false
   }
  },
  {
   "cell_type": "markdown",
   "source": [
    "DAG的特性约束（探索邻接矩阵与DAG特性的关系）：\n",
    "（1）DAG的长度与邻接矩阵的关系；\n",
    "（2）DAG的宽度与邻接矩阵的关系；"
   ],
   "metadata": {
    "collapsed": false
   }
  },
  {
   "cell_type": "code",
   "execution_count": null,
   "outputs": [],
   "source": [],
   "metadata": {
    "collapsed": false
   }
  }
 ],
 "metadata": {
  "kernelspec": {
   "display_name": "Python 3",
   "language": "python",
   "name": "python3"
  },
  "language_info": {
   "codemirror_mode": {
    "name": "ipython",
    "version": 2
   },
   "file_extension": ".py",
   "mimetype": "text/x-python",
   "name": "python",
   "nbconvert_exporter": "python",
   "pygments_lexer": "ipython2",
   "version": "2.7.6"
  }
 },
 "nbformat": 4,
 "nbformat_minor": 0
}
