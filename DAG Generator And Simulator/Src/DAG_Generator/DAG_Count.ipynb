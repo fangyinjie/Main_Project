{
 "cells": [
  {
   "cell_type": "code",
   "execution_count": 3,
   "metadata": {
    "collapsed": true
   },
   "outputs": [],
   "source": [
    "import math"
   ]
  },
  {
   "cell_type": "markdown",
   "source": [
    "## （1）1973 R.W. ROBINSON 计算的labeld vertices DAG 的节点 n 的穷举数量"
   ],
   "metadata": {
    "collapsed": false
   }
  },
  {
   "cell_type": "code",
   "execution_count": 1,
   "outputs": [],
   "source": [
    "def dag_count(n):\n",
    "    ret = 0\n",
    "    if n == 1 or n == 0:\n",
    "        return 1\n",
    "    else:\n",
    "        for k in range(1, n+1):\n",
    "            ret += pow(-1, (k - 1)) * math.comb(n, k) * pow(2, k * (n - k)) * dag_count(n - k)\n",
    "        return ret"
   ],
   "metadata": {
    "collapsed": false
   }
  },
  {
   "cell_type": "code",
   "execution_count": null,
   "outputs": [],
   "source": [],
   "metadata": {
    "collapsed": false
   }
  },
  {
   "cell_type": "code",
   "execution_count": 4,
   "outputs": [
    {
     "name": "stdout",
     "output_type": "stream",
     "text": [
      "1 : 1\n",
      "2 : 3\n",
      "3 : 25\n",
      "4 : 543\n",
      "5 : 29281\n",
      "6 : 3781503\n",
      "7 : 1138779265\n",
      "8 : 783702329343\n",
      "9 : 1213442454842881\n",
      "10 : 4175098976430598143\n",
      "11 : 31603459396418917607425\n",
      "12 : 521939651343829405020504063\n"
     ]
    }
   ],
   "source": [
    "if __name__ == \"__main__\":\n",
    "    for n in range(1, 12 + 1):\n",
    "        print(n, \":\", dag_count(n))"
   ],
   "metadata": {
    "collapsed": false
   }
  },
  {
   "cell_type": "markdown",
   "source": [
    "# （1）确定结点数、长度和宽度的，满足条件的DAG数量穷举；"
   ],
   "metadata": {
    "collapsed": false
   }
  },
  {
   "cell_type": "code",
   "execution_count": null,
   "outputs": [],
   "source": [],
   "metadata": {
    "collapsed": false
   }
  }
 ],
 "metadata": {
  "kernelspec": {
   "display_name": "Python 3",
   "language": "python",
   "name": "python3"
  },
  "language_info": {
   "codemirror_mode": {
    "name": "ipython",
    "version": 2
   },
   "file_extension": ".py",
   "mimetype": "text/x-python",
   "name": "python",
   "nbconvert_exporter": "python",
   "pygments_lexer": "ipython2",
   "version": "2.7.6"
  }
 },
 "nbformat": 4,
 "nbformat_minor": 0
}
