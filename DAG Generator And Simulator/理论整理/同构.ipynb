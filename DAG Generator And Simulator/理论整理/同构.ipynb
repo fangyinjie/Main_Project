{
 "cells": [
  {
   "cell_type": "markdown",
   "source": [
    "# 图同构"
   ],
   "metadata": {
    "collapsed": false
   }
  },
  {
   "cell_type": "markdown",
   "source": [
    "![cat](./pic/1.png)"
   ],
   "metadata": {
    "collapsed": false
   }
  },
  {
   "cell_type": "markdown",
   "source": [
    "<img src=\"./pic/1.png\" width=\"100%\" height=\"100%\">"
   ],
   "metadata": {
    "collapsed": false
   }
  },
  {
   "cell_type": "markdown",
   "source": [
    "$$ x=c_1 $$"
   ],
   "metadata": {
    "collapsed": false
   }
  },
  {
   "cell_type": "markdown",
   "source": [
    "## 1.相关定义"
   ],
   "metadata": {
    "collapsed": false
   }
  },
  {
   "cell_type": "markdown",
   "source": [
    "定义1（图同构）：设$G<V,E>$和$G‘<V’,E‘>$是两个图,若存在$V$到$V'$的双射函数$θ$,使得对任意$a,b∈V,[a,b]∈E$当且仅当$[θ(a),θ(b)]∈E'$,且$[a,b]$和$[θ(a),θ(b)]$有相同的重数,则称G和G'同构.\n",
    "\n",
    "上述定义说明，两图如果同构,则可以在两图的结点之间找到一种一一对应的关系,这种关系保持了结点间的邻接关系和边的重数.同构的两图除了顶点和边的名称不同外,实际上代表了相同的组合结构。容易得到两图同构的必要条件：\n",
    "i. 结点数相等；（邻接矩阵的阶数相等）\n",
    "ii. 边数相等；（邻接矩阵中非零元的个数相等）\n",
    "iii. 度数相同的结点数相等；（邻接矩阵中非零元个数相等的行（或列）数相等）"
   ],
   "metadata": {
    "collapsed": false
   }
  },
  {
   "cell_type": "markdown",
   "source": [
    "定义2[5]：设$A、B$是数域$F$上两个$n$阶矩阵。\n",
    "如果存在$F$上一个非奇异矩阵$P$,使得$P'AP=B$,那么就称B与A合同。\n",
    "不难想到,持续对邻接矩阵做行(列)互换的合同变换,如果能将邻接矩阵变到相同,则两图同构。因此得出线图同构的充要条件：\n",
    "定理 1 两图同构当且仅当它们的邻接矩阵满足同构的必要条件且合同。\n",
    "这里的图包含无向图和有向图。\n",
    "下面来证明这一定理：\n",
    "-充分性\n",
    "若两图邻接矩阵合同，它们就可以通过有限次合同变换变成相等矩阵.而合同变换实际上有三种不同的变换方式：\n",
    "i. 行（列）互换；\n",
    "ii. 将行（列）乘上一个系数；\n",
    "iii. 将一行(列)乘上一个系数后再加到其他行(列)。\n",
    "由于是线图的邻接矩阵，元素只能为0或1，所以后两种变换在这里都没有可能发生，否则两同构图邻接矩阵的必要条件无法满足,这时两图的邻接矩阵要合同,只能通过行(列)互换得到。刚才提到的判定两图同构的方法指出，如果通过有限次的行(列)互换使得两邻接矩阵变成同一矩阵,则两图同构。\n",
    "-必要性\n",
    "如两图同构,则必可以通过对其邻接矩阵做有限次行(列)互换变为相等,这本身就已经说明两矩阵合同了."
   ],
   "metadata": {
    "collapsed": false
   }
  },
  {
   "cell_type": "markdown",
   "source": [
    "# 3秩和符号差"
   ],
   "metadata": {
    "collapsed": false
   }
  },
  {
   "cell_type": "markdown",
   "source": [
    "矩阵合同的充要条件:\n",
    "定理2[5]:实数域上两个n阶对称矩阵合同的充要条件是它们有相同的秩和符号差。\n",
    "\n",
    "符号差指的是两个矩阵的正特征根和负特征根个数之差。所以很容易得到以下推论：\n",
    "推论1 两无向图同构的充要条件为它们的邻接矩阵满足同构的必要条件且不等于零的特征根个数和符号差都分别相等.\n",
    "\n",
    "注：由于定理2针对的是对称矩阵,所以推论1只适用无向图,有向图的适用性未知；"
   ],
   "metadata": {
    "collapsed": false
   }
  },
  {
   "cell_type": "code",
   "execution_count": null,
   "outputs": [],
   "source": [],
   "metadata": {
    "collapsed": false
   }
  },
  {
   "cell_type": "markdown",
   "source": [
    "Practical graph isomorphism, II\n",
    "The graph isomorphism problem on geometric graphs"
   ],
   "metadata": {
    "collapsed": false
   }
  },
  {
   "cell_type": "code",
   "execution_count": null,
   "outputs": [],
   "source": [],
   "metadata": {
    "collapsed": false
   }
  }
 ],
 "metadata": {
  "kernelspec": {
   "display_name": "Python 3",
   "language": "python",
   "name": "python3"
  },
  "language_info": {
   "codemirror_mode": {
    "name": "ipython",
    "version": 2
   },
   "file_extension": ".py",
   "mimetype": "text/x-python",
   "name": "python",
   "nbconvert_exporter": "python",
   "pygments_lexer": "ipython2",
   "version": "2.7.6"
  }
 },
 "nbformat": 4,
 "nbformat_minor": 0
}
