{
 "cells": [
  {
   "cell_type": "markdown",
   "source": [
    "# 图同构"
   ],
   "metadata": {
    "collapsed": false
   }
  },
  {
   "cell_type": "markdown",
   "source": [
    "![cat](./pic/1.png)"
   ],
   "metadata": {
    "collapsed": false
   }
  },
  {
   "cell_type": "markdown",
   "source": [
    "<img src=\"./pic/1.png\" width=\"100%\" height=\"100%\">"
   ],
   "metadata": {
    "collapsed": false
   }
  },
  {
   "cell_type": "markdown",
   "source": [
    "$$ x=c_1 $$"
   ],
   "metadata": {
    "collapsed": false
   }
  },
  {
   "cell_type": "markdown",
   "source": [
    "## 1.相关定义"
   ],
   "metadata": {
    "collapsed": false
   }
  },
  {
   "cell_type": "markdown",
   "source": [
    "定义1（图同构）：设$G<V,E>$和$G‘<V’,E‘>$是两个图,若存在$V$到$V'$的双射函数$θ$,使得对任意$a,b∈V,[a,b]∈E$当且仅当$[θ(a),θ(b)]∈E'$,且$[a,b]$和$[θ(a),θ(b)]$有相同的重数,则称G和G'同构.\n",
    "\n",
    "上述定义说明，两图如果同构,则可以在两图的结点之间找到一种一一对应的关系,这种关系保持了结点间的邻接关系和边的重数.同构的两图除了顶点和边的名称不同外,实际上代表了相同的组合结构。容易得到两图同构的必要条件：\n",
    "i. 结点数相等；（邻接矩阵的阶数相等）\n",
    "ii. 边数相等；（邻接矩阵中非零元的个数相等）\n",
    "iii. 度数相同的结点数相等；（邻接矩阵中非零元个数相等的行（或列）数相等）\n",
    "\n",
    "\n"
   ],
   "metadata": {
    "collapsed": false
   }
  },
  {
   "cell_type": "code",
   "execution_count": null,
   "outputs": [],
   "source": [],
   "metadata": {
    "collapsed": false
   }
  }
 ],
 "metadata": {
  "kernelspec": {
   "display_name": "Python 3",
   "language": "python",
   "name": "python3"
  },
  "language_info": {
   "codemirror_mode": {
    "name": "ipython",
    "version": 2
   },
   "file_extension": ".py",
   "mimetype": "text/x-python",
   "name": "python",
   "nbconvert_exporter": "python",
   "pygments_lexer": "ipython2",
   "version": "2.7.6"
  }
 },
 "nbformat": 4,
 "nbformat_minor": 0
}
